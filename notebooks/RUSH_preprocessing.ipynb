{
 "cells": [
  {
   "cell_type": "code",
   "execution_count": 1,
   "metadata": {
    "vscode": {
     "languageId": "python"
    }
   },
   "outputs": [],
   "source": [
    "import scanpy as sc\n",
    "import pandas as pd\n",
    "import numpy as np\n",
    "import os\n",
    "import matplotlib.pyplot as plt\n",
    "import seaborn as sns\n",
    "import random\n",
    "\n",
    "PROJECT_DIR = '/sc/arion/projects/CommonMind/collin/PSYCHAD_GRN'\n",
    "os.chdir(PROJECT_DIR)"
   ]
  },
  {
   "cell_type": "code",
   "execution_count": 4,
   "metadata": {
    "vscode": {
     "languageId": "python"
    }
   },
   "outputs": [],
   "source": [
    "# Create directory for preprocessing \n",
    "\n",
    "if not os.path.exists(os.path.join(PROJECT_DIR, 'data/preprocessed')):\n",
    "    os.makedirs('data/preprocessed')\n",
    "    os.makedirs('data/processed/h5ad')"
   ]
  },
  {
   "cell_type": "code",
   "execution_count": 2,
   "metadata": {
    "vscode": {
     "languageId": "python"
    }
   },
   "outputs": [
    {
     "name": "stdout",
     "output_type": "stream",
     "text": [
      "(693682, 34890)\n",
      "(693682, 17259)\n"
     ]
    }
   ],
   "source": [
    "# Step 1: Load expression and normalize\n",
    "H5AD_FNAME = '/sc/arion/projects/psychAD/NPS-AD/freeze2_proc/240124_PsychAD_freeze3_RUSH_clean.h5ad'\n",
    "adata=sc.read_h5ad(H5AD_FNAME)\n",
    "print(adata.shape)\n",
    "\n",
    "#filter for protein coding\n",
    "gene_annot = pd.read_csv('/sc/arion/projects/psychAD/NPS-AD/freeze2_rc/h5ad_final/gene_annotation.tsv', sep='\\t')\n",
    "protein_coding = gene_annot[gene_annot['gene_type'] == 'protein_coding']\n",
    "protein_coding_genes = protein_coding['gene_name'].tolist()\n",
    "\n",
    "#filter for protein coding\n",
    "adata = adata[:, adata.var.index.isin(protein_coding_genes)]\n",
    "#NPS_AD.write_h5ad('/sc/arion/projects/CommonMind/collin/PsychAD/data/h5ad/PsychAD_GRN_freeze3_proteincoding.h5ad')\n",
    "print(adata.shape)\n"
   ]
  },
  {
   "cell_type": "code",
   "execution_count": 5,
   "metadata": {
    "vscode": {
     "languageId": "python"
    }
   },
   "outputs": [
    {
     "name": "stderr",
     "output_type": "stream",
     "text": [
      "/sc/arion/projects/roussp01a/collin/envs/scenicplus2/lib/python3.8/site-packages/scanpy/preprocessing/_simple.py:140: ImplicitModificationWarning: Trying to modify attribute `.obs` of view, initializing view as actual.\n",
      "  adata.obs['n_genes'] = number\n"
     ]
    },
    {
     "name": "stdout",
     "output_type": "stream",
     "text": [
      "(693682, 17259)\n",
      "(633049, 17259)\n",
      "(274565, 17259)\n"
     ]
    },
    {
     "ename": "KeyError",
     "evalue": "'Age'",
     "output_type": "error",
     "traceback": [
      "\u001b[0;31m---------------------------------------------------------------------------\u001b[0m",
      "\u001b[0;31mKeyError\u001b[0m                                  Traceback (most recent call last)",
      "File \u001b[0;32m/sc/arion/projects/roussp01a/collin/envs/scenicplus2/lib/python3.8/site-packages/pandas/core/indexes/base.py:3653\u001b[0m, in \u001b[0;36mIndex.get_loc\u001b[0;34m(self, key)\u001b[0m\n\u001b[1;32m   3652\u001b[0m \u001b[39mtry\u001b[39;00m:\n\u001b[0;32m-> 3653\u001b[0m     \u001b[39mreturn\u001b[39;00m \u001b[39mself\u001b[39;49m\u001b[39m.\u001b[39;49m_engine\u001b[39m.\u001b[39;49mget_loc(casted_key)\n\u001b[1;32m   3654\u001b[0m \u001b[39mexcept\u001b[39;00m \u001b[39mKeyError\u001b[39;00m \u001b[39mas\u001b[39;00m err:\n",
      "File \u001b[0;32m/sc/arion/projects/roussp01a/collin/envs/scenicplus2/lib/python3.8/site-packages/pandas/_libs/index.pyx:147\u001b[0m, in \u001b[0;36mpandas._libs.index.IndexEngine.get_loc\u001b[0;34m()\u001b[0m\n",
      "File \u001b[0;32m/sc/arion/projects/roussp01a/collin/envs/scenicplus2/lib/python3.8/site-packages/pandas/_libs/index.pyx:176\u001b[0m, in \u001b[0;36mpandas._libs.index.IndexEngine.get_loc\u001b[0;34m()\u001b[0m\n",
      "File \u001b[0;32mpandas/_libs/hashtable_class_helper.pxi:7080\u001b[0m, in \u001b[0;36mpandas._libs.hashtable.PyObjectHashTable.get_item\u001b[0;34m()\u001b[0m\n",
      "File \u001b[0;32mpandas/_libs/hashtable_class_helper.pxi:7088\u001b[0m, in \u001b[0;36mpandas._libs.hashtable.PyObjectHashTable.get_item\u001b[0;34m()\u001b[0m\n",
      "\u001b[0;31mKeyError\u001b[0m: 'Age'",
      "\nThe above exception was the direct cause of the following exception:\n",
      "\u001b[0;31mKeyError\u001b[0m                                  Traceback (most recent call last)",
      "\u001b[1;32m/sc/arion/projects/CommonMind/collin/PSYCHAD_GRN/notebooks/RUSH_preprocessing.ipynb Cell 4\u001b[0m line \u001b[0;36m1\n\u001b[1;32m     <a href='vscode-notebook-cell://ssh-remote%2Bminerva.hpc.mssm.edu/sc/arion/projects/CommonMind/collin/PSYCHAD_GRN/notebooks/RUSH_preprocessing.ipynb#W4sdnNjb2RlLXJlbW90ZQ%3D%3D?line=12'>13</a>\u001b[0m \u001b[39mprint\u001b[39m(adata\u001b[39m.\u001b[39mshape)\n\u001b[1;32m     <a href='vscode-notebook-cell://ssh-remote%2Bminerva.hpc.mssm.edu/sc/arion/projects/CommonMind/collin/PSYCHAD_GRN/notebooks/RUSH_preprocessing.ipynb#W4sdnNjb2RlLXJlbW90ZQ%3D%3D?line=14'>15</a>\u001b[0m \u001b[39m# Filter for age \u001b[39;00m\n\u001b[0;32m---> <a href='vscode-notebook-cell://ssh-remote%2Bminerva.hpc.mssm.edu/sc/arion/projects/CommonMind/collin/PSYCHAD_GRN/notebooks/RUSH_preprocessing.ipynb#W4sdnNjb2RlLXJlbW90ZQ%3D%3D?line=15'>16</a>\u001b[0m adata \u001b[39m=\u001b[39m adata[adata\u001b[39m.\u001b[39;49mobs[\u001b[39m'\u001b[39;49m\u001b[39mAge\u001b[39;49m\u001b[39m'\u001b[39;49m] \u001b[39m>\u001b[39m \u001b[39m65\u001b[39m, :]\n\u001b[1;32m     <a href='vscode-notebook-cell://ssh-remote%2Bminerva.hpc.mssm.edu/sc/arion/projects/CommonMind/collin/PSYCHAD_GRN/notebooks/RUSH_preprocessing.ipynb#W4sdnNjb2RlLXJlbW90ZQ%3D%3D?line=16'>17</a>\u001b[0m \u001b[39mprint\u001b[39m(adata\u001b[39m.\u001b[39mshape)\n\u001b[1;32m     <a href='vscode-notebook-cell://ssh-remote%2Bminerva.hpc.mssm.edu/sc/arion/projects/CommonMind/collin/PSYCHAD_GRN/notebooks/RUSH_preprocessing.ipynb#W4sdnNjb2RlLXJlbW90ZQ%3D%3D?line=19'>20</a>\u001b[0m \u001b[39m# Filter for BB\u001b[39;00m\n",
      "File \u001b[0;32m/sc/arion/projects/roussp01a/collin/envs/scenicplus2/lib/python3.8/site-packages/pandas/core/frame.py:3761\u001b[0m, in \u001b[0;36mDataFrame.__getitem__\u001b[0;34m(self, key)\u001b[0m\n\u001b[1;32m   3759\u001b[0m \u001b[39mif\u001b[39;00m \u001b[39mself\u001b[39m\u001b[39m.\u001b[39mcolumns\u001b[39m.\u001b[39mnlevels \u001b[39m>\u001b[39m \u001b[39m1\u001b[39m:\n\u001b[1;32m   3760\u001b[0m     \u001b[39mreturn\u001b[39;00m \u001b[39mself\u001b[39m\u001b[39m.\u001b[39m_getitem_multilevel(key)\n\u001b[0;32m-> 3761\u001b[0m indexer \u001b[39m=\u001b[39m \u001b[39mself\u001b[39;49m\u001b[39m.\u001b[39;49mcolumns\u001b[39m.\u001b[39;49mget_loc(key)\n\u001b[1;32m   3762\u001b[0m \u001b[39mif\u001b[39;00m is_integer(indexer):\n\u001b[1;32m   3763\u001b[0m     indexer \u001b[39m=\u001b[39m [indexer]\n",
      "File \u001b[0;32m/sc/arion/projects/roussp01a/collin/envs/scenicplus2/lib/python3.8/site-packages/pandas/core/indexes/base.py:3655\u001b[0m, in \u001b[0;36mIndex.get_loc\u001b[0;34m(self, key)\u001b[0m\n\u001b[1;32m   3653\u001b[0m     \u001b[39mreturn\u001b[39;00m \u001b[39mself\u001b[39m\u001b[39m.\u001b[39m_engine\u001b[39m.\u001b[39mget_loc(casted_key)\n\u001b[1;32m   3654\u001b[0m \u001b[39mexcept\u001b[39;00m \u001b[39mKeyError\u001b[39;00m \u001b[39mas\u001b[39;00m err:\n\u001b[0;32m-> 3655\u001b[0m     \u001b[39mraise\u001b[39;00m \u001b[39mKeyError\u001b[39;00m(key) \u001b[39mfrom\u001b[39;00m \u001b[39merr\u001b[39;00m\n\u001b[1;32m   3656\u001b[0m \u001b[39mexcept\u001b[39;00m \u001b[39mTypeError\u001b[39;00m:\n\u001b[1;32m   3657\u001b[0m     \u001b[39m# If we have a listlike key, _check_indexing_error will raise\u001b[39;00m\n\u001b[1;32m   3658\u001b[0m     \u001b[39m#  InvalidIndexError. Otherwise we fall through and re-raise\u001b[39;00m\n\u001b[1;32m   3659\u001b[0m     \u001b[39m#  the TypeError.\u001b[39;00m\n\u001b[1;32m   3660\u001b[0m     \u001b[39mself\u001b[39m\u001b[39m.\u001b[39m_check_indexing_error(key)\n",
      "\u001b[0;31mKeyError\u001b[0m: 'Age'"
     ]
    }
   ],
   "source": [
    "# Step 2: Apply standard filters\n",
    "\n",
    "# Filter cells and genes\n",
    "sc.pp.filter_cells(adata, min_genes=200 )\n",
    "sc.pp.filter_genes(adata, min_cells=10)\n",
    "print(adata.shape)\n",
    "\n",
    "\n",
    "# Filter cells based on mitochondrial genes\n",
    "adata = adata[adata.obs['n_genes'] < 6000, :]\n",
    "print(adata.shape)\n",
    "adata = adata[adata.obs['percent_mito'] < 0.10, :]\n",
    "print(adata.shape)\n",
    "\n",
    "# Filter for age \n",
    "adata = adata[adata.obs['Age'] > 65, :]\n",
    "print(adata.shape)\n",
    "\n",
    "\n",
    "# Filter for BB\n",
    "adata = adata[adata.obs['Source'].isin(['R', 'M'])]\n",
    "print(adata.shape)\n",
    "\n",
    "#save h5ad\n",
    "adata.write_h5ad(os.path.join(PROJECT_DIR, 'data/preprocessed/NPS_AD_RUSH_freeze3_proteincoding.h5ad'))"
   ]
  },
  {
   "cell_type": "code",
   "execution_count": 8,
   "metadata": {
    "vscode": {
     "languageId": "python"
    }
   },
   "outputs": [],
   "source": [
    "adata.write_h5ad(os.path.join(PROJECT_DIR, 'data/preprocessed/NPS_AD_RUSH_freeze3_proteincoding.h5ad'))"
   ]
  },
  {
   "cell_type": "code",
   "execution_count": 31,
   "metadata": {
    "vscode": {
     "languageId": "python"
    }
   },
   "outputs": [
    {
     "data": {
      "text/plain": [
       "AnnData object with n_obs × n_vars = 274565 × 17259\n",
       "    obs: 'Channel', 'SubID', 'rep', 'poolID', 'round_num', 'prep', 'SubID_cs', 'HTO_n_cs', 'max_prob', 'doublet_prob', 'Source', 'n_genes', 'n_counts', 'percent_mito', 'passed_SubID', 'scale', 'G1/S', 'G2/M', 'cycle_diff', 'cycling', 'predicted_phase', 'female_score', 'male_score', 'gender_score', 'predicted_gender', 'mito_genes', 'mito_ribo', 'ribo_genes', 'apoptosis', 'leiden_labels_res30', 'doublet_score', 'pred_dbl', 'class', 'subclass', 'subtype', 'Astro', 'EN_L2_3_IT', 'EN_L3_5_IT_1', 'EN_L3_5_IT_2', 'EN_L3_5_IT_3', 'EN_L5_6_NP', 'EN_L5_ET', 'EN_L6B', 'EN_L6_CT', 'EN_L6_IT_1', 'EN_L6_IT_2', 'Endo', 'IN_ADARB2', 'IN_LAMP5_LHX6', 'IN_LAMP5_RELN', 'IN_PVALB', 'IN_PVALB_CHC', 'IN_SST', 'IN_SST_HGF', 'IN_SST_NPY', 'IN_VIP', 'Immune', 'Micro_PVM', 'OPC', 'Oligo', 'PC', 'RB', 'SMC', 'VLMC', 'projID', 'date', 'pool', 'flowcell', 'lane'\n",
       "    var: 'gene_id', 'gene_name', 'gene_type', 'gene_chrom', 'gene_start', 'gene_end', 'n_cells', 'percent_cells', 'robust', 'highly_variable_features', 'ribosomal', 'mitochondrial', 'protein_coding', 'mitocarta_genes', 'robust_protein_coding', 'mean', 'bins'\n",
       "    uns: 'PCs', '_attr2type', 'genome', 'leiden_labels_res30_colors', 'leiden_resolution', 'modality', 'norm_count', 'pca', 'pca_features', 'pca_ncomps', 'sig_n_bins', 'stdzn_max_value', 'stdzn_mean', 'stdzn_std', 'subclass_colors', 'uid'\n",
       "    obsm: 'X_pca', 'X_pca_regressed', 'X_pca_regressed_harmony', 'X_umap', 'pca_regressed_harmony_knn_distances', 'pca_regressed_harmony_knn_indices', 'sig_bkg_mean', 'sig_bkg_std'\n",
       "    obsp: 'W_pca_regressed_harmony'"
      ]
     },
     "execution_count": 31,
     "metadata": {},
     "output_type": "execute_result"
    }
   ],
   "source": [
    "adata = sc.read_h5ad(os.path.join(PROJECT_DIR, 'data/preprocessed/NPS_AD_RUSH_freeze3_proteincoding.h5ad'))\n",
    "adata"
   ]
  },
  {
   "cell_type": "code",
   "execution_count": 34,
   "metadata": {
    "vscode": {
     "languageId": "python"
    }
   },
   "outputs": [
    {
     "data": {
      "text/plain": [
       "AnnData object with n_obs × n_vars = 274565 × 17259\n",
       "    obs: 'AD_strict', 'dx', 'age', 'sex', 'race', 'Braak', 'dementia', 'SubID', 'Channel', 'rep', 'poolID', 'round_num', 'prep', 'SubID_cs', 'HTO_n_cs', 'max_prob', 'doublet_prob', 'Source', 'n_genes', 'n_counts', 'percent_mito', 'passed_SubID', 'scale', 'G1/S', 'G2/M', 'cycle_diff', 'cycling', 'predicted_phase', 'female_score', 'male_score', 'gender_score', 'predicted_gender', 'mito_genes', 'mito_ribo', 'ribo_genes', 'apoptosis', 'leiden_labels_res30', 'doublet_score', 'pred_dbl', 'class', 'subclass', 'subtype', 'Astro', 'EN_L2_3_IT', 'EN_L3_5_IT_1', 'EN_L3_5_IT_2', 'EN_L3_5_IT_3', 'EN_L5_6_NP', 'EN_L5_ET', 'EN_L6B', 'EN_L6_CT', 'EN_L6_IT_1', 'EN_L6_IT_2', 'Endo', 'IN_ADARB2', 'IN_LAMP5_LHX6', 'IN_LAMP5_RELN', 'IN_PVALB', 'IN_PVALB_CHC', 'IN_SST', 'IN_SST_HGF', 'IN_SST_NPY', 'IN_VIP', 'Immune', 'Micro_PVM', 'OPC', 'Oligo', 'PC', 'RB', 'SMC', 'VLMC', 'projID', 'date', 'pool', 'flowcell', 'lane'\n",
       "    var: 'gene_id', 'gene_name', 'gene_type', 'gene_chrom', 'gene_start', 'gene_end', 'n_cells', 'percent_cells', 'robust', 'highly_variable_features', 'ribosomal', 'mitochondrial', 'protein_coding', 'mitocarta_genes', 'robust_protein_coding', 'mean', 'bins'\n",
       "    uns: 'PCs', '_attr2type', 'genome', 'leiden_labels_res30_colors', 'leiden_resolution', 'modality', 'norm_count', 'pca', 'pca_features', 'pca_ncomps', 'sig_n_bins', 'stdzn_max_value', 'stdzn_mean', 'stdzn_std', 'subclass_colors', 'uid'\n",
       "    obsm: 'X_pca', 'X_pca_regressed', 'X_pca_regressed_harmony', 'X_umap', 'pca_regressed_harmony_knn_distances', 'pca_regressed_harmony_knn_indices', 'sig_bkg_mean', 'sig_bkg_std'\n",
       "    obsp: 'W_pca_regressed_harmony'"
      ]
     },
     "execution_count": 34,
     "metadata": {},
     "output_type": "execute_result"
    }
   ],
   "source": [
    "# Step 3: Add in metadata for contrasts \n",
    "\n",
    "adata.obs['barcodekey'] = adata.obs.index\n",
    "adata.obs\n",
    "\n",
    "metadata = pd.read_csv('/sc/arion/projects/psychAD/NPS-AD/freeze2_proc/230316_PsychAD_metadata_clean.csv')\n",
    "metadata = metadata[['AD_strict', 'dx', 'age', 'sex', 'race', 'Braak', 'dementia', 'SubID']]\n",
    "metadata = pd.merge(metadata, adata.obs, on='SubID')\n",
    "metadata\n",
    "\n",
    "adata.obs = metadata\n",
    "adata.obs\n",
    "\n",
    "adata.obs.set_index('barcodekey', inplace=True)\n",
    "adata"
   ]
  },
  {
   "cell_type": "code",
   "execution_count": 45,
   "metadata": {
    "vscode": {
     "languageId": "python"
    }
   },
   "outputs": [
    {
     "name": "stdout",
     "output_type": "stream",
     "text": [
      "View of AnnData object with n_obs × n_vars = 123075 × 17259\n",
      "    obs: 'AD_strict', 'dx', 'age', 'sex', 'race', 'Braak', 'dementia', 'SubID', 'Channel', 'rep', 'poolID', 'round_num', 'prep', 'SubID_cs', 'HTO_n_cs', 'max_prob', 'doublet_prob', 'Source', 'n_genes', 'n_counts', 'percent_mito', 'passed_SubID', 'scale', 'G1/S', 'G2/M', 'cycle_diff', 'cycling', 'predicted_phase', 'female_score', 'male_score', 'gender_score', 'predicted_gender', 'mito_genes', 'mito_ribo', 'ribo_genes', 'apoptosis', 'leiden_labels_res30', 'doublet_score', 'pred_dbl', 'class', 'subclass', 'subtype', 'Astro', 'EN_L2_3_IT', 'EN_L3_5_IT_1', 'EN_L3_5_IT_2', 'EN_L3_5_IT_3', 'EN_L5_6_NP', 'EN_L5_ET', 'EN_L6B', 'EN_L6_CT', 'EN_L6_IT_1', 'EN_L6_IT_2', 'Endo', 'IN_ADARB2', 'IN_LAMP5_LHX6', 'IN_LAMP5_RELN', 'IN_PVALB', 'IN_PVALB_CHC', 'IN_SST', 'IN_SST_HGF', 'IN_SST_NPY', 'IN_VIP', 'Immune', 'Micro_PVM', 'OPC', 'Oligo', 'PC', 'RB', 'SMC', 'VLMC', 'projID', 'date', 'pool', 'flowcell', 'lane'\n",
      "    var: 'gene_id', 'gene_name', 'gene_type', 'gene_chrom', 'gene_start', 'gene_end', 'n_cells', 'percent_cells', 'robust', 'highly_variable_features', 'ribosomal', 'mitochondrial', 'protein_coding', 'mitocarta_genes', 'robust_protein_coding', 'mean', 'bins'\n",
      "    uns: 'PCs', '_attr2type', 'genome', 'leiden_labels_res30_colors', 'leiden_resolution', 'modality', 'norm_count', 'pca', 'pca_features', 'pca_ncomps', 'sig_n_bins', 'stdzn_max_value', 'stdzn_mean', 'stdzn_std', 'subclass_colors', 'uid'\n",
      "    obsm: 'X_pca', 'X_pca_regressed', 'X_pca_regressed_harmony', 'X_umap', 'pca_regressed_harmony_knn_distances', 'pca_regressed_harmony_knn_indices', 'sig_bkg_mean', 'sig_bkg_std'\n",
      "    obsp: 'W_pca_regressed_harmony'\n",
      "View of AnnData object with n_obs × n_vars = 17601 × 17259\n",
      "    obs: 'AD_strict', 'dx', 'age', 'sex', 'race', 'Braak', 'dementia', 'SubID', 'Channel', 'rep', 'poolID', 'round_num', 'prep', 'SubID_cs', 'HTO_n_cs', 'max_prob', 'doublet_prob', 'Source', 'n_genes', 'n_counts', 'percent_mito', 'passed_SubID', 'scale', 'G1/S', 'G2/M', 'cycle_diff', 'cycling', 'predicted_phase', 'female_score', 'male_score', 'gender_score', 'predicted_gender', 'mito_genes', 'mito_ribo', 'ribo_genes', 'apoptosis', 'leiden_labels_res30', 'doublet_score', 'pred_dbl', 'class', 'subclass', 'subtype', 'Astro', 'EN_L2_3_IT', 'EN_L3_5_IT_1', 'EN_L3_5_IT_2', 'EN_L3_5_IT_3', 'EN_L5_6_NP', 'EN_L5_ET', 'EN_L6B', 'EN_L6_CT', 'EN_L6_IT_1', 'EN_L6_IT_2', 'Endo', 'IN_ADARB2', 'IN_LAMP5_LHX6', 'IN_LAMP5_RELN', 'IN_PVALB', 'IN_PVALB_CHC', 'IN_SST', 'IN_SST_HGF', 'IN_SST_NPY', 'IN_VIP', 'Immune', 'Micro_PVM', 'OPC', 'Oligo', 'PC', 'RB', 'SMC', 'VLMC', 'projID', 'date', 'pool', 'flowcell', 'lane'\n",
      "    var: 'gene_id', 'gene_name', 'gene_type', 'gene_chrom', 'gene_start', 'gene_end', 'n_cells', 'percent_cells', 'robust', 'highly_variable_features', 'ribosomal', 'mitochondrial', 'protein_coding', 'mitocarta_genes', 'robust_protein_coding', 'mean', 'bins'\n",
      "    uns: 'PCs', '_attr2type', 'genome', 'leiden_labels_res30_colors', 'leiden_resolution', 'modality', 'norm_count', 'pca', 'pca_features', 'pca_ncomps', 'sig_n_bins', 'stdzn_max_value', 'stdzn_mean', 'stdzn_std', 'subclass_colors', 'uid'\n",
      "    obsm: 'X_pca', 'X_pca_regressed', 'X_pca_regressed_harmony', 'X_umap', 'pca_regressed_harmony_knn_distances', 'pca_regressed_harmony_knn_indices', 'sig_bkg_mean', 'sig_bkg_std'\n",
      "    obsp: 'W_pca_regressed_harmony'\n"
     ]
    }
   ],
   "source": [
    "#Filter for AD / CONTROL, HVG, and save \n",
    "def subset_for_HVG(adata):\n",
    "    adata = adata[:, adata.var['highly_variable_features']]\n",
    "    return adata\n",
    "\n",
    "adata = adata[adata.obs['dx'].isin(['AD', 'CTRL'])]\n",
    "adata = subset_for_HVG(adata)\n",
    "adata.write_h5ad(os.path.join(PROJECT_DIR, 'data/preprocessed/NPS_AD_RUSH_freeze3_metadata_HVG.h5ad'))\n",
    "\n"
   ]
  },
  {
   "cell_type": "code",
   "execution_count": 2,
   "metadata": {
    "vscode": {
     "languageId": "python"
    }
   },
   "outputs": [],
   "source": [
    "#Define function to create directory\n",
    "\n",
    "def create_GRN_dir(RESULTS_FNAME, h5ad):\n",
    "    #Check if directory exists, if not create it\n",
    "    directory_path = os.path.join(RESULTS_FNAME)\n",
    "    if not os.path.exists(directory_path):\n",
    "        os.makedirs(directory_path)\n",
    "        os.makedirs(os.path.join(directory_path, 'csv'))\n",
    "        os.makedirs(os.path.join(directory_path, 'h5ad'))\n",
    "        os.makedirs(os.path.join(directory_path, 'regulons'))\n",
    "        os.makedirs(os.path.join(directory_path, 'adj'))\n",
    "        os.makedirs(os.path.join(directory_path, 'aucell'))\n",
    "    \n",
    "    #Save h5ad\n",
    "    h5ad.write_h5ad(os.path.join(directory_path, 'h5ad', 'NPS_AD_RUSH_freeze3_original_metadata_HVG.h5ad'))\n",
    "    h5ad.to_df().to_csv(os.path.join(directory_path, 'csv', 'NPS_AD_RUSH_freeze3_original_metadata_HVG.csv'))\n"
   ]
  },
  {
   "cell_type": "code",
   "execution_count": 54,
   "metadata": {
    "vscode": {
     "languageId": "python"
    }
   },
   "outputs": [
    {
     "data": {
      "text/plain": [
       "AnnData object with n_obs × n_vars = 123075 × 5999\n",
       "    obs: 'AD_strict', 'dx', 'age', 'sex', 'race', 'Braak', 'dementia', 'SubID', 'Channel', 'rep', 'poolID', 'round_num', 'prep', 'SubID_cs', 'HTO_n_cs', 'max_prob', 'doublet_prob', 'Source', 'n_genes', 'n_counts', 'percent_mito', 'passed_SubID', 'scale', 'G1/S', 'G2/M', 'cycle_diff', 'cycling', 'predicted_phase', 'female_score', 'male_score', 'gender_score', 'predicted_gender', 'mito_genes', 'mito_ribo', 'ribo_genes', 'apoptosis', 'leiden_labels_res30', 'doublet_score', 'pred_dbl', 'class', 'subclass', 'subtype', 'Astro', 'EN_L2_3_IT', 'EN_L3_5_IT_1', 'EN_L3_5_IT_2', 'EN_L3_5_IT_3', 'EN_L5_6_NP', 'EN_L5_ET', 'EN_L6B', 'EN_L6_CT', 'EN_L6_IT_1', 'EN_L6_IT_2', 'Endo', 'IN_ADARB2', 'IN_LAMP5_LHX6', 'IN_LAMP5_RELN', 'IN_PVALB', 'IN_PVALB_CHC', 'IN_SST', 'IN_SST_HGF', 'IN_SST_NPY', 'IN_VIP', 'Immune', 'Micro_PVM', 'OPC', 'Oligo', 'PC', 'RB', 'SMC', 'VLMC', 'projID', 'date', 'pool', 'flowcell', 'lane'\n",
       "    var: 'gene_id', 'gene_name', 'gene_type', 'gene_chrom', 'gene_start', 'gene_end', 'n_cells', 'percent_cells', 'robust', 'highly_variable_features', 'ribosomal', 'mitochondrial', 'protein_coding', 'mitocarta_genes', 'robust_protein_coding', 'mean', 'bins'\n",
       "    uns: 'PCs', '_attr2type', 'genome', 'leiden_labels_res30_colors', 'leiden_resolution', 'modality', 'norm_count', 'pca', 'pca_features', 'pca_ncomps', 'sig_n_bins', 'stdzn_max_value', 'stdzn_mean', 'stdzn_std', 'subclass_colors', 'uid'\n",
       "    obsm: 'X_pca', 'X_pca_regressed', 'X_pca_regressed_harmony', 'X_umap', 'pca_regressed_harmony_knn_distances', 'pca_regressed_harmony_knn_indices', 'sig_bkg_mean', 'sig_bkg_std'\n",
       "    obsp: 'W_pca_regressed_harmony'"
      ]
     },
     "execution_count": 54,
     "metadata": {},
     "output_type": "execute_result"
    }
   ],
   "source": [
    "adata = sc.read_h5ad(os.path.join(PROJECT_DIR, 'data/preprocessed/NPS_AD_RUSH_freeze3_metadata_HVG.h5ad'))\n",
    "adata"
   ]
  },
  {
   "cell_type": "code",
   "execution_count": 55,
   "metadata": {
    "vscode": {
     "languageId": "python"
    }
   },
   "outputs": [],
   "source": [
    "#Split for RUSH (AD + CTRL)\n",
    "adata = sc.read_h5ad(os.path.join(PROJECT_DIR, 'data/preprocessed/NPS_AD_RUSH_freeze3_metadata_HVG.h5ad'))\n",
    "SAVE_DIR = os.path.join(PROJECT_DIR, 'GRN_splits/RUSH')\n",
    "create_GRN_dir(SAVE_DIR, adata)\n"
   ]
  },
  {
   "cell_type": "code",
   "execution_count": 3,
   "metadata": {
    "vscode": {
     "languageId": "python"
    }
   },
   "outputs": [
    {
     "name": "stdout",
     "output_type": "stream",
     "text": [
      "View of AnnData object with n_obs × n_vars = 123075 × 5999\n",
      "    obs: 'AD_strict', 'dx', 'age', 'sex', 'race', 'Braak', 'dementia', 'SubID', 'Channel', 'rep', 'poolID', 'round_num', 'prep', 'SubID_cs', 'HTO_n_cs', 'max_prob', 'doublet_prob', 'Source', 'n_genes', 'n_counts', 'percent_mito', 'passed_SubID', 'scale', 'G1/S', 'G2/M', 'cycle_diff', 'cycling', 'predicted_phase', 'female_score', 'male_score', 'gender_score', 'predicted_gender', 'mito_genes', 'mito_ribo', 'ribo_genes', 'apoptosis', 'leiden_labels_res30', 'doublet_score', 'pred_dbl', 'class', 'subclass', 'subtype', 'Astro', 'EN_L2_3_IT', 'EN_L3_5_IT_1', 'EN_L3_5_IT_2', 'EN_L3_5_IT_3', 'EN_L5_6_NP', 'EN_L5_ET', 'EN_L6B', 'EN_L6_CT', 'EN_L6_IT_1', 'EN_L6_IT_2', 'Endo', 'IN_ADARB2', 'IN_LAMP5_LHX6', 'IN_LAMP5_RELN', 'IN_PVALB', 'IN_PVALB_CHC', 'IN_SST', 'IN_SST_HGF', 'IN_SST_NPY', 'IN_VIP', 'Immune', 'Micro_PVM', 'OPC', 'Oligo', 'PC', 'RB', 'SMC', 'VLMC', 'projID', 'date', 'pool', 'flowcell', 'lane'\n",
      "    var: 'gene_id', 'gene_name', 'gene_type', 'gene_chrom', 'gene_start', 'gene_end', 'n_cells', 'percent_cells', 'robust', 'highly_variable_features', 'ribosomal', 'mitochondrial', 'protein_coding', 'mitocarta_genes', 'robust_protein_coding', 'mean', 'bins'\n",
      "    uns: 'PCs', '_attr2type', 'genome', 'leiden_labels_res30_colors', 'leiden_resolution', 'modality', 'norm_count', 'pca', 'pca_features', 'pca_ncomps', 'sig_n_bins', 'stdzn_max_value', 'stdzn_mean', 'stdzn_std', 'subclass_colors', 'uid'\n",
      "    obsm: 'X_pca', 'X_pca_regressed', 'X_pca_regressed_harmony', 'X_umap', 'pca_regressed_harmony_knn_distances', 'pca_regressed_harmony_knn_indices', 'sig_bkg_mean', 'sig_bkg_std'\n",
      "    obsp: 'W_pca_regressed_harmony'\n"
     ]
    }
   ],
   "source": [
    "#Split for RUSH (AD)\n",
    "adata = sc.read_h5ad(os.path.join(PROJECT_DIR, 'data/preprocessed/NPS_AD_RUSH_freeze3_metadata_HVG.h5ad'))\n",
    "adata = adata[adata.obs['dx'].isin(['AD'])]\n",
    "print(adata)\n",
    "SAVE_DIR = os.path.join(PROJECT_DIR, 'GRN_splits/RUSH_AD')\n",
    "create_GRN_dir(SAVE_DIR, adata)\n",
    "\n",
    "#Split for RUSH (CTRL)\n",
    "adata = sc.read_h5ad(os.path.join(PROJECT_DIR, 'data/preprocessed/NPS_AD_RUSH_freeze3_metadata_HVG.h5ad'))\n",
    "adata = adata[adata.obs['dx'].isin(['CTRL'])]\n",
    "print(adata)\n",
    "SAVE_DIR = os.path.join(PROJECT_DIR, 'GRN_splits/RUSH_CTRL')    \n",
    "create_GRN_dir(SAVE_DIR, adata)\n",
    "\n",
    "print(\"Done!\")\n"
   ]
  },
  {
   "cell_type": "code",
   "execution_count": null,
   "metadata": {
    "vscode": {
     "languageId": "python"
    }
   },
   "outputs": [],
   "source": [
    "import datetime\n",
    "import random\n",
    "import multiprocessing\n",
    "import os\n",
    "import pandas as pd\n",
    "\n",
    "RESULTS_FOLDERNAME='/sc/arion/projects/CommonMind/collin/PSYCHAD_GRN/GRN_splits/RUSH'\n",
    "#RESULTS_FOLDERNAME='/sc/arion/projects/CommonMind/collin/PsychAD/no_var_pilot/UNIVERSAL'\n",
    "tf_list = '/sc/arion/projects/roussp01a/collin/scenic-kaiyi/data/db_f/allTFs_hg38.txt'\n",
    "\n",
    "\n",
    "CSV_FNAME = os.path.join(RESULTS_FOLDERNAME, 'csv')\n",
    "if os.path.exists(CSV_FNAME):\n",
    "    for n in [111, 222, 333, 444, 555]:\n",
    "        # Get path of csv file for each contrast ~ celltype ~ variable combination\n",
    "        SEED = n\n",
    "        print('Inferring GRN for UNIVERSAL run {} with seed {}'.format(n, SEED))\n",
    "        csv_file_path = [os.path.join(CSV_FNAME, filename) for filename in os.listdir(CSV_FNAME) if os.path.isfile(os.path.join(CSV_FNAME, filename))][0]\n",
    "        print(csv_file_path)\n",
    "        \n",
    "        ADJACENCIES_FNAME = csv_file_path.replace('.csv', '.adjacencies_run{}_seed_{}.tsv'.format(n, SEED))\n",
    "        ADJACENCIES_FNAME = ADJACENCIES_FNAME.replace('/csv/', '/adj/').replace('_PsychAD_GRN', '')\n",
    "        \n",
    "        if os.path.exists(ADJACENCIES_FNAME):\n",
    "            print('Already exists: {}'.format(ADJACENCIES_FNAME))\n",
    "            continue\n",
    "        print(ADJACENCIES_FNAME)\n",
    "        \n",
    "        # Inferring GRN\n",
    "        cores = multiprocessing.cpu_count() - 2\n",
    "\n",
    "        start_time = datetime.datetime.now()\n",
    "        print(f\"Start time: {start_time.strftime('%Y-%m-%d %H:%M:%S')}\")\n",
    "\n",
    "        # System call to arboreto_with_multiprocessing.py\n",
    "        os.system(f\"arboreto_with_multiprocessing.py {csv_file_path} {tf_list} --method grnboost2 --output {ADJACENCIES_FNAME} --num_workers {cores} --seed {SEED}\")\n",
    "\n",
    "        end_time = datetime.datetime.now()\n",
    "        print(f\"End time: {end_time.strftime('%Y-%m-%d %H:%M:%S')}\")\n",
    "\n",
    "        duration = (end_time - start_time).total_seconds() / 60\n",
    "        print('Total runtime: {} minutes'.format(duration))\n",
    "\n"
   ]
  }
 ],
 "metadata": {
  "kernelspec": {
   "display_name": "Scenicplus2",
   "language": "python",
   "name": "scenicplus2"
  },
  "language_info": {
   "name": "",
   "version": ""
  }
 },
 "nbformat": 4,
 "nbformat_minor": 2
}
