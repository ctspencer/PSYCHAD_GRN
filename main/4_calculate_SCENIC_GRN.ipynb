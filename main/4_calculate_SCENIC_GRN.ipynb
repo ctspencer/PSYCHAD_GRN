{
 "cells": [
  {
   "cell_type": "code",
   "execution_count": null,
   "metadata": {},
   "outputs": [],
   "source": [
    "#modifying functions\n",
    "import pandas as pd\n",
    "import pickle\n",
    "import ast\n",
    "\n",
    "np.object = object\n",
    "\n",
    "from arboreto.utils import load_tf_names\n",
    "from arboreto.algo import grnboost2\n",
    "\n",
    "#from pyscenic.rnkdb import FeatherRankingDatabase as RankingDatabase\n",
    "from dask.diagnostics import ProgressBar\n",
    "from pyscenic.utils import modules_from_adjacencies\n",
    "from pyscenic.prune import prune2df, df2regulons\n",
    "from pyscenic.aucell import aucell\n",
    "from ctxcore.rnkdb import FeatherRankingDatabase as RankingDatabase\n",
    "\n",
    "#define function to calculate regulons from consensus GRN ADJ and CSV files\n",
    "#note that the dbs and motif_annotations are the same for all contrasts\n",
    "def calculate_regulons(C_ADJ_FNAME, CSV_FNAME, dbs, motif_annotations, auc_threshold=0.05, nes_threshold=3.0):\n",
    "    print('Calculating regulons')\n",
    "    print('With parameters: auc_threshold =', auc_threshold, 'nes_threshold =', nes_threshold)\n",
    "    adj_GRN = pd.read_csv(C_ADJ_FNAME, sep='\\t')\n",
    "    csv_GEX = pd.read_csv(CSV_FNAME, index_col=0)\n",
    "    \n",
    "    modules = list(modules_from_adjacencies(adj_GRN, csv_GEX))\n",
    "    df = prune2df([dbs], modules, motif_annotations, auc_threshold=auc_threshold, nes_threshold=nes_threshold)\n",
    "    regulons = df2regulons(df)\n",
    "    \n",
    "    return regulons, modules\n",
    "\n",
    "#calculate SCENIC GRN from regulons object and save to results folder\n",
    "def calculate_SCENIC_GRN(regulons): \n",
    "    SCENIC_GRN = pd.DataFrame(columns=['TF', 'target', 'importance'])\n",
    "    for regulon in regulons:\n",
    "        regulon_name = regulon.name\n",
    "        if 'Regulon for' in regulon_name:\n",
    "            regulon_name = regulon_name.split('Regulon for ')[1]\n",
    "        gene_importance_pairs = pd.DataFrame((regulon.gene2weight.items()))\n",
    "        gene_importance_pairs['TF'] = regulon_name\n",
    "        gene_importance_pairs.columns = ['target', 'importance', 'TF']\n",
    "        gene_importance_pairs = gene_importance_pairs[['TF', 'target', 'importance']]\n",
    "        SCENIC_GRN = pd.concat([SCENIC_GRN, gene_importance_pairs])\n",
    "    return SCENIC_GRN\n",
    "\n",
    "#SCENIC_GRN = calculate_SCENIC_GRN(regulons)\n",
    "#SCENIC_GRN\n",
    "\n",
    "\n",
    "db_fpath = \"/sc/arion/projects/roussp01a/collin/scenic-kaiyi/data/db_f\"\n",
    "f_db = os.path.join(db_fpath, 'hg38_10kbp_up_10kbp_down_full_tx_v10_clust.genes_vs_motifs.rankings.feather')\n",
    "motif_annotations = os.path.join(db_fpath, 'motifs-v10nr_clust-nr.hgnc-m0.001-o0.0.tbl')\n",
    "tf_list = os.path.join(db_fpath, 'allTFs_hg38.txt')\n",
    "\n",
    "db_fnames = f_db\n",
    "def name(fname):\n",
    "    return os.path.splitext(os.path.basename(fname))[0]\n",
    "dbs = RankingDatabase(f_db, 'hg38_10kbup_10kbdown_fulltx_v10_clust')\n",
    "\n"
   ]
  },
  {
   "cell_type": "code",
   "execution_count": null,
   "metadata": {},
   "outputs": [],
   "source": [
    "C_ADJ_FNAME = '/sc/arion/projects/CommonMind/collin/PsychAD/no_var_pilot/UNIVERSAL/consensus_adj/UNIVERSAL_consensus_adj.tsv'\n",
    "CSV_FNAME = '/sc/arion/projects/CommonMind/collin/PsychAD/no_var_pilot/UNIVERSAL/csv/PSYCHAD_GRN_ALL_CT_HVG.csv'\n",
    "REGULONS_FNAME = '/sc/arion/projects/CommonMind/collin/PsychAD/no_var_pilot/UNIVERSAL/regulons/UNIVERSAL_regulons.tsv'\n",
    "\n",
    "\n",
    "regulons, modules = calculate_regulons(C_ADJ_FNAME, CSV_FNAME, dbs, motif_annotations, auc_threshold=0.05, nes_threshold=3.0)"
   ]
  },
  {
   "cell_type": "code",
   "execution_count": null,
   "metadata": {},
   "outputs": [],
   "source": [
    "SCENIC_GRN_SAVE_FNAME = '/sc/arion/projects/CommonMind/collin/PsychAD/no_var_pilot/UNIVERSAL/SCENIC_GRN/UNIVERSAL_SCENIC_GRN.tsv'\n",
    "SCENIC_GRN = calculate_SCENIC_GRN(regulons)\n",
    "\n",
    "SCENIC_GRN.to_csv(SCENIC_GRN_SAVE_FNAME, sep='\\t', index=False)"
   ]
  }
 ],
 "metadata": {
  "language_info": {
   "name": "python"
  }
 },
 "nbformat": 4,
 "nbformat_minor": 2
}
