{
 "cells": [
  {
   "cell_type": "code",
   "execution_count": null,
   "metadata": {},
   "outputs": [],
   "source": [
    "db_fpath = \"/sc/arion/projects/roussp01a/collin/scenic-kaiyi/data/db_f\"\n",
    "f_db = os.path.join(db_fpath, 'hg38_10kbp_up_10kbp_down_full_tx_v10_clust.genes_vs_motifs.rankings.feather')\n",
    "motif_annotations = os.path.join(db_fpath, 'motifs-v10nr_clust-nr.hgnc-m0.001-o0.0.tbl')\n",
    "tf_list = os.path.join(db_fpath, 'allTFs_hg38.txt')\n",
    "\n",
    "db_fnames = f_db\n",
    "def name(fname):\n",
    "    return os.path.splitext(os.path.basename(fname))[0]\n",
    "dbs = RankingDatabase(f_db, 'hg38_10kbup_10kbdown_fulltx_v10_clust')\n",
    "\n",
    "C_ADJ_FNAME = '/sc/arion/projects/CommonMind/collin/PsychAD/no_var_pilot/UNIVERSAL/consensus_adj/UNIVERSAL_consensus_adj.tsv'\n",
    "CSV_FNAME = '/sc/arion/projects/CommonMind/collin/PsychAD/no_var_pilot/UNIVERSAL/csv/PSYCHAD_GRN_ALL_CT_HVG.csv'\n",
    "REGULONS_FNAME = C_ADJ_FNAME.replace('consensus_adj', 'regulons').replace('/adj/', '/reg/')\n",
    "print(REGULONS_FNAME)\n",
    "\n",
    "cores = multiprocessing.cpu_count() - 2"
   ]
  },
  {
   "cell_type": "code",
   "execution_count": null,
   "metadata": {},
   "outputs": [],
   "source": [
    "!pyscenic ctx {C_ADJ_FNAME} \\\n",
    "    {f_db} \\\n",
    "    --annotations_fname {motif_annotations} \\\n",
    "    --expression_mtx_fname {CSV_FNAME} \\\n",
    "    --output {REGULONS_FNAME} \\\n",
    "    --num_workers {cores}"
   ]
  },
  {
   "cell_type": "code",
   "execution_count": null,
   "metadata": {},
   "outputs": [],
   "source": [
    "AUCELL_REF = '/sc/arion/projects/CommonMind/collin/PsychAD/no_var_pilot/UNIVERSAL/csv/PSYCHAD_GRN_ALL_CT_HVG.csv'\n",
    "C_ADJ_FNAME = '/sc/arion/projects/CommonMind/collin/PsychAD/no_var_pilot/UNIVERSAL/consensus_adj/UNIVERSAL_consensus_adj.tsv'\n",
    "CSV_FNAME = '/sc/arion/projects/CommonMind/collin/PsychAD/no_var_pilot/UNIVERSAL/csv/PSYCHAD_GRN_ALL_CT_HVG.csv'\n",
    "REGULONS_FNAME = '/sc/arion/projects/CommonMind/collin/PsychAD/no_var_pilot/UNIVERSAL/regulons/UNIVERSAL_regulons.tsv'\n",
    "#REGULONS_FNAME = '/sc/arion/projects/CommonMind/collin/PsychAD/output_dream_genes/m01x/AD/Micro/regulons/m01x-AD_Micro_regulons.tsv'\n",
    "AUCELL_FNAME = C_ADJ_FNAME.replace('consensus_adj', 'aucell').replace('/adj/', '/aucell/')\n",
    "print(AUCELL_FNAME)\n",
    "\n",
    "cores = multiprocessing.cpu_count() - 2\n",
    "\n",
    "!pyscenic aucell \\\n",
    "    {AUCELL_REF} \\\n",
    "    {REGULONS_FNAME} \\\n",
    "    --output {AUCELL_FNAME} \\\n",
    "    --num_workers {cores}"
   ]
  },
  {
   "cell_type": "code",
   "execution_count": null,
   "metadata": {},
   "outputs": [],
   "source": [
    "#trying with formula similar to fresh microglia\n",
    "\n",
    "#turn aucell into h5ad and save\n",
    "AUCELL_FNAME = '/sc/arion/projects/CommonMind/collin/PsychAD/no_var_pilot/UNIVERSAL/aucell/UNIVERSAL_aucell.tsv'\n",
    "auc_mtx=pd.read_csv(AUCELL_FNAME, index_col='Cell')\n",
    "\n",
    "ad = sc.read_h5ad('/sc/arion/projects/CommonMind/collin/PsychAD/no_var_pilot/UNIVERSAL/h5ad/PSYCHAD_GRN_ALL_CT_HVG.h5ad')\n",
    "auc_ad = sc.AnnData(auc_mtx)\n",
    "auc_ad.obs = ad.obs\n",
    "auc_ad.obsm = ad.obsm\n",
    "\n",
    "\n",
    "#create AD column with binarized values of m01x\n",
    "ad_aucell.obs['AD'] = ad_aucell.obs['m01x'].map({'AD': 1, 'Control': 0})\n",
    "ad_aucell.obs['AD'].value_counts()\n",
    "\n",
    "ad_aucell\n",
    "\n",
    "#ad_aucell.write_h5ad('/sc/arion/projects/CommonMind/collin/PsychAD/no_var_pilot/data/aucell/UNIVERSAL_ALL_CT_HVG_AUCELL.h5ad')"
   ]
  }
 ],
 "metadata": {
  "language_info": {
   "name": "python"
  }
 },
 "nbformat": 4,
 "nbformat_minor": 2
}
